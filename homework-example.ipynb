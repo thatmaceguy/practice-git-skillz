{
 "cells": [
  {
   "source": [
    "# Challenge 2: Make Changes to Files\n",
    "\n",
    "* Add a markdown cell to the notebook\n",
    "* In the cell, add a **heading** and then some text below"
   ],
   "cell_type": "markdown",
   "metadata": {}
  },
  {
   "cell_type": "code",
   "execution_count": null,
   "metadata": {},
   "outputs": [],
   "source": []
  }
 ],
 "metadata": {},
 "nbformat": 4,
 "nbformat_minor": 2
}